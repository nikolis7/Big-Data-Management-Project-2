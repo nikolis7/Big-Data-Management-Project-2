{
 "cells": [
  {
   "cell_type": "markdown",
   "id": "6636ed0a",
   "metadata": {},
   "source": [
    "## Converter (csv to json)"
   ]
  },
  {
   "cell_type": "markdown",
   "id": "a29f497b",
   "metadata": {},
   "source": [
    "#### Import the necessary libraries "
   ]
  },
  {
   "cell_type": "code",
   "execution_count": 1,
   "id": "6796c6d8",
   "metadata": {},
   "outputs": [],
   "source": [
    "import csv\n",
    "import json\n",
    "import glob\n",
    "import os \n",
    "import time"
   ]
  },
  {
   "cell_type": "code",
   "execution_count": 2,
   "id": "a44429a4",
   "metadata": {},
   "outputs": [],
   "source": [
    "cwd = os.getcwd()\n",
    "path =cwd+\"\\Data\""
   ]
  },
  {
   "cell_type": "code",
   "execution_count": 57,
   "id": "dea3561f",
   "metadata": {},
   "outputs": [],
   "source": [
    "extension = 'csv'\n",
    "all_filenames = [i for i in glob.glob('*.{}'.format(extension))]"
   ]
  },
  {
   "cell_type": "code",
   "execution_count": 33,
   "id": "e4d9b045",
   "metadata": {},
   "outputs": [],
   "source": [
    "## Create the function for converting the data \n",
    "\n",
    "def csv_to_json(csvFilePath, jsonFilePath):\n",
    "    jsonArray = []\n",
    "      \n",
    "    #read csv file\n",
    "    with open(csvFilePath, encoding='latin-1') as csvf: \n",
    "        #load csv file data using csv library's dictionary reader\n",
    "        csvReader = csv.DictReader(csvf) \n",
    "\n",
    "        #convert each csv row into python dict\n",
    "        for row in csvReader:\n",
    "            #add country in each dictionary \n",
    "            row[\"country\"] = csvFilePath[0:2]\n",
    "            #add this python dict to json array\n",
    "            jsonArray.append(row)\n",
    "    \n",
    "  \n",
    "    #convert python jsonArray to JSON String and write to file\n",
    "    with open(jsonFilePath, 'w', encoding='latin-1') as jsonf: \n",
    "        jsonString = json.dumps(jsonArray, indent=4)\n",
    "        jsonf.write(jsonString)\n",
    "          "
   ]
  },
  {
   "cell_type": "code",
   "execution_count": 34,
   "id": "53e0c1e0",
   "metadata": {},
   "outputs": [],
   "source": [
    "extension = 'csv'\n",
    "all_filenames = [i for i in glob.glob('*.{}'.format(extension))]"
   ]
  },
  {
   "cell_type": "code",
   "execution_count": 35,
   "id": "8a9bead1",
   "metadata": {},
   "outputs": [],
   "source": [
    "# Convert files \n",
    "\n",
    "for i in all_filenames:\n",
    "    \n",
    "    csv_to_json(i, i.split('.')[0]+'.json')"
   ]
  }
 ],
 "metadata": {
  "kernelspec": {
   "display_name": "Python 3",
   "language": "python",
   "name": "python3"
  },
  "language_info": {
   "codemirror_mode": {
    "name": "ipython",
    "version": 3
   },
   "file_extension": ".py",
   "mimetype": "text/x-python",
   "name": "python",
   "nbconvert_exporter": "python",
   "pygments_lexer": "ipython3",
   "version": "3.7.10"
  }
 },
 "nbformat": 4,
 "nbformat_minor": 5
}
